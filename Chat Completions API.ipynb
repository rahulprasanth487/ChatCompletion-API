{
  "cells": [
    {
      "cell_type": "code",
      "id": "J7bTEzGP7v7IPA4oPys4vFek",
      "metadata": {
        "tags": [],
        "id": "J7bTEzGP7v7IPA4oPys4vFek"
      },
      "source": [],
      "execution_count": 2,
      "outputs": []
    },
    {
      "cell_type": "code",
      "source": [
        "import vertexai\n",
        "import openai\n",
        "\n",
        "from google.auth import default, transport\n",
        "\n",
        "# TODO(developer): Update & uncomment below line\n",
        "PROJECT_ID = \"qwiklabs-gcp-01-6c10741257b9\"\n",
        "location = \"us-central1\"\n",
        "\n",
        "vertexai.init(project=PROJECT_ID, location=location)\n",
        "\n",
        "credentials, _ = default(scopes=[\"https://www.googleapis.com/auth/cloud-platform\"])\n",
        "auth_request = transport.requests.Request()\n",
        "credentials.refresh(auth_request)\n",
        "\n",
        "client = openai.OpenAI(\n",
        "    base_url=f\"https://{location}-aiplatform.googleapis.com/v1beta1/projects/{PROJECT_ID}/locations/{location}/endpoints/openapi\",\n",
        "    api_key=credentials.token,\n",
        ")\n",
        "\n",
        "\n",
        "messages = []\n",
        "messages.append(\n",
        "    {\n",
        "        \"role\": \"system\",\n",
        "        \"content\": \"Don't make assumptions about what values to plug into functions. Ask for clarification if a user request is ambiguous.\",\n",
        "    }\n",
        ")\n",
        "messages.append({\"role\": \"user\", \"content\": \"Current President of USA?\"})\n",
        "\n",
        "response = client.chat.completions.create(\n",
        "    model=\"google/gemini-1.5-flash-002\",\n",
        "    messages=messages\n",
        ")\n",
        "\n"
      ],
      "metadata": {
        "id": "eaPumNkkd_71"
      },
      "id": "eaPumNkkd_71",
      "execution_count": 13,
      "outputs": []
    },
    {
      "cell_type": "code",
      "source": [
        "response.choices[0].message"
      ],
      "metadata": {
        "colab": {
          "base_uri": "https://localhost:8080/"
        },
        "id": "5dJ65tmge5fj",
        "outputId": "4fa5b12c-85d0-44c9-d664-b06491af5070"
      },
      "id": "5dJ65tmge5fj",
      "execution_count": 14,
      "outputs": [
        {
          "output_type": "execute_result",
          "data": {
            "text/plain": [
              "ChatCompletionMessage(content='The current President of the USA is Joe Biden.  Is there anything else I can help you with?\\n', refusal=None, role='assistant', audio=None, function_call=None, tool_calls=None)"
            ]
          },
          "metadata": {},
          "execution_count": 14
        }
      ]
    },
    {
      "cell_type": "code",
      "source": [],
      "metadata": {
        "id": "1NIe0W65fA8q"
      },
      "id": "1NIe0W65fA8q",
      "execution_count": null,
      "outputs": []
    }
  ],
  "metadata": {
    "kernelspec": {
      "display_name": "Python 3",
      "language": "python",
      "name": "python3"
    },
    "language_info": {
      "codemirror_mode": {
        "name": "ipython",
        "version": 3
      },
      "file_extension": ".py",
      "mimetype": "text/x-python",
      "name": "python",
      "nbconvert_exporter": "python",
      "pygments_lexer": "ipython3",
      "version": "3.10.10"
    },
    "colab": {
      "provenance": [],
      "name": "student-01-a9aa650f7ead (Feb 27, 2025, 6:23:11 PM)"
    }
  },
  "nbformat": 4,
  "nbformat_minor": 5
}